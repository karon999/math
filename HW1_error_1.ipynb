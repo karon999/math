{
  "cells": [
    {
      "cell_type": "markdown",
      "metadata": {
        "id": "view-in-github",
        "colab_type": "text"
      },
      "source": [
        "<a href=\"https://colab.research.google.com/github/karon999/math/blob/main/HW1_error_1.ipynb\" target=\"_parent\"><img src=\"https://colab.research.google.com/assets/colab-badge.svg\" alt=\"Open In Colab\"/></a>"
      ]
    },
    {
      "cell_type": "code",
      "execution_count": 243,
      "metadata": {
        "deletable": false,
        "editable": false,
        "nbgrader": {
          "cell_type": "code",
          "checksum": "3c0e6f80c9a8d85d80baddc8df3890a0",
          "grade": false,
          "grade_id": "cell-7531378247537850",
          "locked": true,
          "schema_version": 3,
          "solution": false
        },
        "id": "nzuTp5NxZhiw"
      },
      "outputs": [],
      "source": [
        "from __future__ import print_function\n",
        "%matplotlib inline\n",
        "import numpy\n",
        "import matplotlib.pyplot as plt\n",
        "\n",
        "# import the factorial function from scipy\n",
        "from scipy.special import factorial"
      ]
    },
    {
      "cell_type": "markdown",
      "metadata": {
        "deletable": false,
        "editable": false,
        "nbgrader": {
          "cell_type": "markdown",
          "checksum": "57fe3d1a770d32fc71d10c52d47d5765",
          "grade": false,
          "grade_id": "cell-1055125360070174",
          "locked": true,
          "schema_version": 3,
          "solution": false
        },
        "id": "rOl1igcwZhi1"
      },
      "source": [
        "# HW 1:  Forms of Error\n",
        "\n"
      ]
    },
    {
      "cell_type": "markdown",
      "metadata": {
        "deletable": false,
        "editable": false,
        "nbgrader": {
          "cell_type": "markdown",
          "checksum": "763bdcd61a173c57e8d82dcd9519ee2c",
          "grade": false,
          "grade_id": "cell-9681214437904696",
          "locked": true,
          "schema_version": 3,
          "solution": false
        },
        "id": "dqF2qdiCZhi3"
      },
      "source": [
        "## Question 1:  definition of errors\n",
        "\n",
        "**(a)**  [4 pts] Write a short python program to calculate and return, the absolute error, relative error and degree of decimal precision (as defined in class) given an object `f` and its approximation `F`.  Note, both `f` and `F` can be numpy arrays."
      ]
    },
    {
      "cell_type": "code",
      "execution_count": 244,
      "metadata": {
        "deletable": false,
        "nbgrader": {
          "cell_type": "code",
          "checksum": "7c9bcb87e713e8ee4fb90ec822ed4d9f",
          "grade": false,
          "grade_id": "cell-a6ede65cf8ed685f",
          "locked": false,
          "schema_version": 3,
          "solution": true,
          "task": false
        },
        "id": "uyXfX8IRZhi4"
      },
      "outputs": [],
      "source": [
        "def errors(f,F):\n",
        "  \"\"\" calculate various measures of error of an object f and its approximation F\n",
        "\n",
        "  Parameters\n",
        "  ----------\n",
        "  f:  numpy.array (or float)\n",
        "      array of true values\n",
        "\n",
        "  F: numpy.array\n",
        "      array of approximate values\n",
        "\n",
        "  Returns\n",
        "  -------\n",
        "\n",
        "  e: array of absolute errors\n",
        "  r: array of relative errors\n",
        "  p: integer array of precisions\n",
        "  \"\"\"\n",
        "  e = numpy.abs(f - F)\n",
        "\n",
        "  r = numpy.where(f != 0, e / numpy.abs(f), numpy.inf)\n",
        "\n",
        "  p = numpy.where(r != 0, -numpy.log10(r / 5.), numpy.inf)\n",
        "  p = numpy.where(p != numpy.inf, p.astype(int), numpy.inf)\n",
        "\n",
        "  return e, r, p\n"
      ]
    },
    {
      "cell_type": "code",
      "execution_count": 245,
      "metadata": {
        "deletable": false,
        "editable": false,
        "nbgrader": {
          "cell_type": "code",
          "checksum": "f4295c880e6563c035f2e1176010b834",
          "grade": true,
          "grade_id": "cell-da2659b413c73ca7",
          "locked": true,
          "points": 4,
          "schema_version": 3,
          "solution": false,
          "task": false
        },
        "colab": {
          "base_uri": "https://localhost:8080/"
        },
        "id": "fsgxPsoHZhi4",
        "outputId": "8653af5f-66b0-4a0b-fe9b-38b8915411d5"
      },
      "outputs": [
        {
          "output_type": "stream",
          "name": "stdout",
          "text": [
            "passed scalar test\n",
            "passed array test\n"
          ]
        }
      ],
      "source": [
        "# Testing Cell (do not copy)\n",
        "\n",
        "# Test Simple Scalars\n",
        "e,r,p = errors(numpy.exp(1),2.72)\n",
        "answer = [0.0017181715409551046, 0.0006320799863232398, 3]\n",
        "numpy.testing.assert_allclose([e,r,p], answer)\n",
        "print('passed scalar test')\n",
        "\n",
        "# Test with array input\n",
        "x = [1., 2., 3.]\n",
        "f = numpy.exp(x)\n",
        "F = [ 2.718,  7.389,  20.085]\n",
        "e,r,p = errors(f,F)\n",
        "numpy.testing.assert_allclose(e,[2.81828459e-04, 5.60989307e-05, 5.36923188e-04])\n",
        "numpy.testing.assert_allclose(r,[1.03678896e-04, 7.59216467e-06, 2.67318315e-05])\n",
        "numpy.testing.assert_allclose(p,[4, 5, 5])\n",
        "print('passed array test')"
      ]
    },
    {
      "cell_type": "markdown",
      "metadata": {
        "deletable": false,
        "editable": false,
        "nbgrader": {
          "cell_type": "markdown",
          "checksum": "39ee29a6b36ec47d40b72b71b941b0f2",
          "grade": false,
          "grade_id": "cell-bef4e3baf992ed93",
          "locked": true,
          "schema_version": 3,
          "solution": false,
          "task": false
        },
        "id": "9aNPM3gEZhi5"
      },
      "source": [
        "**(b)** [2 pts]  Use your routine to compare the absolute error, relative error and degree of precision for these two rational approximations of $\\pi$\n",
        "\n",
        "* $f = \\pi$ and $F = 22 / 7$\n",
        "* $f = \\pi$ and $F = 355 / 113$\n",
        "\n",
        "Which is more accurate?"
      ]
    },
    {
      "cell_type": "code",
      "execution_count": 246,
      "metadata": {
        "id": "95AMZL46Zhi5",
        "colab": {
          "base_uri": "https://localhost:8080/"
        },
        "outputId": "7ef733b7-8477-45d5-ed4e-62347e9dd381"
      },
      "outputs": [
        {
          "output_type": "stream",
          "name": "stdout",
          "text": [
            "F2 is more accurate\n"
          ]
        }
      ],
      "source": [
        "# you can put some working code here to generate your answers, but put your answers in the cell below\n",
        "f = numpy.pi\n",
        "F1 = 22 / 7\n",
        "F2 = 355 / 113\n",
        "e1,r1,p1 = errors(f,F1)\n",
        "e2,r2,p2 = errors(f,F2)\n",
        "if r1 > r2:\n",
        "  print('F2 is more accurate')\n",
        "elif r1 < r2:\n",
        "  print('F1 is more accurate')\n",
        "else:\n",
        "  print('F1 and F2 are equally accurate')"
      ]
    },
    {
      "cell_type": "markdown",
      "metadata": {
        "deletable": false,
        "nbgrader": {
          "cell_type": "markdown",
          "checksum": "21b09b84adbced5a47c2142e0d7a29cd",
          "grade": true,
          "grade_id": "cell-4300360216304258",
          "locked": false,
          "points": 2,
          "schema_version": 3,
          "solution": true
        },
        "id": "RM2zqMKoZhi6"
      },
      "source": [
        "$F = 355 / 113$ is more accurate to approximate $\\pi$"
      ]
    },
    {
      "cell_type": "markdown",
      "metadata": {
        "deletable": false,
        "editable": false,
        "nbgrader": {
          "cell_type": "markdown",
          "checksum": "b5a1a21715793f4a9cd1d22da3c6fbd5",
          "grade": false,
          "grade_id": "cell-300ca517618db367",
          "locked": true,
          "schema_version": 3,
          "solution": false,
          "task": false
        },
        "id": "6_6SgR57Zhi6"
      },
      "source": [
        "**(c)** [6 pts] Write a python routine to find the most accurate $d$ digit rational approximation to $\\pi$. i.e. find\n",
        "two $d$ digit positive integers $m,n$ such that\n",
        "\n",
        "$$ F = \\frac{m}{n} \\sim \\pi$$\n",
        "\n",
        "(hint:  $355/113$ is the best 3-digit rational approximation)"
      ]
    },
    {
      "cell_type": "code",
      "execution_count": 247,
      "metadata": {
        "deletable": false,
        "nbgrader": {
          "cell_type": "code",
          "checksum": "2fad6f779f0e38180756be9962ecfdda",
          "grade": false,
          "grade_id": "cell-4b8290252c936eec",
          "locked": false,
          "schema_version": 3,
          "solution": true,
          "task": false
        },
        "id": "3RkvABC_Zhi7"
      },
      "outputs": [],
      "source": [
        "def rational_pi(d):\n",
        "  ''' Find the best rational approximation to pi ~ m/n where m and n are both d-digit positive integers\n",
        "\n",
        "  Parameters\n",
        "  ----------\n",
        "\n",
        "  d: int\n",
        "      number of digits in both m and n\n",
        "\n",
        "  Returns\n",
        "  -------\n",
        "  m,n: int\n",
        "      numerator and denominator of best d digit rational approximation to pi ~ m/n\n",
        "\n",
        "  '''\n",
        "  if d == 0:\n",
        "    print('No 0 digit number is allowed.')\n",
        "  else:\n",
        "    min = 10**(d-1)\n",
        "    max = 10**d - 1\n",
        "\n",
        "    best_m = min\n",
        "    best_n = 1\n",
        "    best_error = 1000\n",
        "\n",
        "    for n in range(min,max):\n",
        "      m = round(numpy.pi * n)\n",
        "      if min <= m <= max:\n",
        "        error = abs(numpy.pi - m/n)\n",
        "        if error < best_error:\n",
        "          best_m = m\n",
        "          best_n = n\n",
        "          best_error = error\n",
        "\n",
        "  return best_m, best_n"
      ]
    },
    {
      "cell_type": "code",
      "execution_count": 248,
      "metadata": {
        "deletable": false,
        "editable": false,
        "nbgrader": {
          "cell_type": "code",
          "checksum": "29119ccc9d740a4e6317ed3dc57f6657",
          "grade": true,
          "grade_id": "cell-6568ef410973a577",
          "locked": true,
          "points": 6,
          "schema_version": 3,
          "solution": false,
          "task": false
        },
        "id": "uAlaCctdZhi7",
        "colab": {
          "base_uri": "https://localhost:8080/"
        },
        "outputId": "0fb2175b-f167-4de4-cd9b-8d15fc5084ed"
      },
      "outputs": [
        {
          "output_type": "stream",
          "name": "stdout",
          "text": [
            "d=1: 3/1 = 3.0:\t e = 0.14159265358979312,\t, r = 0.04507034144862795,\t p= 2.0\n",
            "d=2: 44/14 = 3.142857142857143:\t e = 0.0012644892673496777,\t, r = 0.0004024994347707008,\t p= 4.0\n",
            "d=3: 355/113 = 3.1415929203539825:\t e = 2.667641894049666e-07,\t, r = 8.49136787674061e-08,\t p= 7.0\n",
            "d=4: 3195/1017 = 3.1415929203539825:\t e = 2.667641894049666e-07,\t, r = 8.49136787674061e-08,\t p= 7.0\n",
            "d=5: 99733/31746 = 3.1415926415926414:\t e = 1.1997151716514054e-08,\t, r = 3.818811997413258e-09,\t p= 9.0\n",
            "\n",
            "success!\n"
          ]
        }
      ],
      "source": [
        "# Testing Cell (do not copy)\n",
        "\n",
        "# print out best rational approximations and their errors  for d =1-5\n",
        "for d in range(1,6):\n",
        "  m,n = rational_pi(d)\n",
        "  e,r,p = errors(numpy.pi,m/n)\n",
        "  print('d={}: {}/{} = {}:\\t e = {},\\t, r = {},\\t p= {}'.format(d,m,n,m/n,e,r,p))\n",
        "\n",
        "# Run assertion Tests\n",
        "numpy.testing.assert_allclose(rational_pi(2),(44, 14))\n",
        "numpy.testing.assert_allclose(rational_pi(3),(355, 113))\n",
        "print('\\nsuccess!')\n"
      ]
    },
    {
      "cell_type": "markdown",
      "metadata": {
        "deletable": false,
        "editable": false,
        "nbgrader": {
          "cell_type": "markdown",
          "checksum": "cabe33a4165802a8de9d6c0d6b322917",
          "grade": false,
          "grade_id": "cell-23707a8e710ca676",
          "locked": true,
          "schema_version": 3,
          "solution": false,
          "task": false
        },
        "id": "8d3OYoZkZhi7"
      },
      "source": [
        "**(d)** [6 pts] $F = n \\log(n) - n$ is Stirling's approximation to  $f = \\log(n!)$ for large values of $n$.\n",
        "Do the following\n",
        "\n",
        "* Make a plot showing the relative error and degree of decimal precision for $f$ and $F$ as a function of integer $n$\n",
        "\n",
        "* Estimate the smallest value of $n$ where Stirling's approximation is good to 4 decimal places of precision.  \n",
        "\n",
        "**Note**: If you use the `factorial` function imported from `scipy.special`, you will not be able to answer this question.  **Why?**  \n",
        "\n",
        "**Hint**: However there is another way to evaluate $\\log(n!)$ for integer $n$ that will work."
      ]
    },
    {
      "cell_type": "code",
      "execution_count": 249,
      "metadata": {
        "deletable": false,
        "nbgrader": {
          "cell_type": "code",
          "checksum": "6195fab472e4537966b7eba4a529a13b",
          "grade": true,
          "grade_id": "cell-a5639245c28a1642",
          "locked": false,
          "points": 4,
          "schema_version": 3,
          "solution": true,
          "task": false
        },
        "id": "VwdCZinsZhi8",
        "colab": {
          "base_uri": "https://localhost:8080/",
          "height": 573
        },
        "outputId": "ae162d32-f64b-4650-8c77-145883498c87"
      },
      "outputs": [
        {
          "output_type": "display_data",
          "data": {
            "text/plain": [
              "<Figure size 1600x600 with 2 Axes>"
            ],
            "image/png": "[encoded data removed]"
          },
          "metadata": {}
        },
        {
          "output_type": "stream",
          "name": "stdout",
          "text": [
            "The smallest value of n where Stirling's approximation is good to 4 decimal places of precision is: 1452\n"
          ]
        }
      ],
      "source": [
        "from scipy.special import gammaln\n",
        "\n",
        "n = numpy.arange(2,5000)\n",
        "f = gammaln(n + 1)\n",
        "F = n * numpy.log(n) - n\n",
        "\n",
        "relative_error = numpy.abs(f - F) / numpy.abs(f)\n",
        "precision = -numpy.log10(relative_error/5.)\n",
        "precision = precision.astype(int)\n",
        "\n",
        "plt.figure(figsize=(16, 6))\n",
        "\n",
        "plt.subplot(1, 2, 1)\n",
        "plt.plot(n, relative_error, label=\"relative error\")\n",
        "plt.yscale('log')\n",
        "plt.xlabel('n')\n",
        "plt.ylabel('relative error')\n",
        "plt.title('relative error of Stirling\\'s approximation')\n",
        "\n",
        "plt.subplot(1, 2, 2)\n",
        "plt.plot(n, precision, label=\"degree of decimal precision\")\n",
        "plt.xlabel('n')\n",
        "plt.ylabel('degree of decimal precision')\n",
        "plt.title('degree of decimal precision of Stirling\\'s approximation')\n",
        "\n",
        "plt.show()\n",
        "\n",
        "n_min = numpy.min(n[precision >= 4])\n",
        "print(f\"The smallest value of n where Stirling's approximation is good to 4 decimal places of precision is: {n_min}\")\n",
        "\n"
      ]
    },
    {
      "cell_type": "markdown",
      "metadata": {
        "deletable": false,
        "nbgrader": {
          "cell_type": "markdown",
          "checksum": "c6321f16c18ce03a19fd25289b7d8ab4",
          "grade": true,
          "grade_id": "cell-dcc45d9028355b73",
          "locked": false,
          "points": 2,
          "schema_version": 3,
          "solution": true,
          "task": false
        },
        "id": "jtLxLRBhZhi8"
      },
      "source": [
        "1452"
      ]
    },
    {
      "cell_type": "markdown",
      "metadata": {
        "deletable": false,
        "editable": false,
        "nbgrader": {
          "cell_type": "markdown",
          "checksum": "27bfc8b15912bb6e1cdfa2dfd103ced4",
          "grade": false,
          "grade_id": "cell-6968179660613369",
          "locked": true,
          "schema_version": 3,
          "solution": false
        },
        "id": "fT401-xAZhi8"
      },
      "source": [
        "## Question 2\n",
        "\n",
        "[4 pts] Given the Taylor polynomial expansions of two functions around $x=0$\n",
        "\n",
        "$$\\frac{1}{1-\\Delta x} = 1 + \\Delta x + \\Delta x^2 + \\Delta x^3 + O(\\Delta x^4)$$\n",
        "\n",
        "and\n",
        "\n",
        "$$\\cosh \\Delta x = 1 + \\frac{\\Delta x^2}{2!} + \\frac{\\Delta x^4}{4!} + O(\\Delta x^6)$$\n",
        "\n",
        "calculate their sum and product as well as the order of approximation for the truncation error (i.e. determine the exponent that belongs in the $O$).\n"
      ]
    },
    {
      "cell_type": "markdown",
      "metadata": {
        "deletable": false,
        "nbgrader": {
          "cell_type": "markdown",
          "checksum": "77d458abae3cfa5157eca11bd346e444",
          "grade": true,
          "grade_id": "cell-8500724062567566",
          "locked": false,
          "points": 4,
          "schema_version": 3,
          "solution": true
        },
        "id": "CQJRk93lZhi8"
      },
      "source": [
        "$Sum = 2 + \\Delta x + \\frac{3}{2}\\Delta x^2 + \\Delta x^3 + O(\\Delta x^4)$\n",
        "<br><br>\n",
        "$Production = 1 + \\Delta x + \\frac{3}{2}\\Delta x^2 + \\frac{3}{2}\\Delta x^3 + O(\\Delta x^4)$"
      ]
    },
    {
      "cell_type": "markdown",
      "metadata": {
        "deletable": false,
        "editable": false,
        "nbgrader": {
          "cell_type": "markdown",
          "checksum": "237fcd7151c710b1c2fe86744794671b",
          "grade": false,
          "grade_id": "cell-5632471080286207",
          "locked": true,
          "schema_version": 3,
          "solution": false
        },
        "id": "gqwdDqy9Zhi9"
      },
      "source": [
        "## Question 3:  The great Exp challenge...\n",
        "\n",
        "Here you will attempt to write a function to calculate $e^x$ using its Taylor polynomial approximation expanded around $x_0=0$\n",
        "\n",
        "$$e^x \\approx T_n(x) = 1 + x + \\frac{x^2}{2!} + \\frac{x^3}{3!} + \\cdots + \\frac{x^n}{n!}$$\n",
        "\n",
        "such that the relative error of $f=e^x$ and $F=T_n(x)$ is of order Machine epsilon ($\\epsilon_{machine}$) for  $x\\in[-50,50]$.  This problem is actually a bit of a stinker and takes a bit of thought (particularly for $x<0$).  But I'll work you through it."
      ]
    },
    {
      "cell_type": "markdown",
      "metadata": {
        "deletable": false,
        "editable": false,
        "nbgrader": {
          "cell_type": "markdown",
          "checksum": "d16eac32cec2913a95095d153a7994b7",
          "grade": false,
          "grade_id": "cell-8186992197557199",
          "locked": true,
          "schema_version": 3,
          "solution": false
        },
        "id": "mxba6gfdZhi9"
      },
      "source": [
        "**(a)** [4 pts] Assume $x> 0$ and show that the upper bound on the *relative error*  at term $n$\n",
        "\n",
        "$$r_n = \\frac{|e^x - T_n(x)|}{|e^x|}$$\n",
        "\n",
        "is given by\n",
        "\n",
        "$$r_n \\leq \\left | \\frac{x^{n+1}}{(n + 1)!} \\right |$$"
      ]
    },
    {
      "cell_type": "markdown",
      "metadata": {
        "deletable": false,
        "nbgrader": {
          "cell_type": "markdown",
          "checksum": "c066945aa96e6e08fcb676cf3b3e08f3",
          "grade": true,
          "grade_id": "cell-2747685663052674",
          "locked": false,
          "points": 4,
          "schema_version": 3,
          "solution": true
        },
        "id": "dxTGbE7tZhi9"
      },
      "source": [
        "$R_n(x) = e^x - T_n(x)\n",
        "= \\frac{f^{(n+1)}(c) * (x-x_0)^{n+1}} {(n+1)!}\n",
        "= \\frac{e^c*x^{n+1}}{(n+1)!}$\n",
        "<br><br>\n",
        "$r_n = \\frac{|e^x - T_n(x)|}{|e^x|} = \\frac{|R_n|}{|e^x|} = \\frac{e^c}{e^x} * \\left| \\frac{x^{x+1}}{(n+1)!} \\right|$\n",
        "<br><br>\n",
        "$c \\in [x_0,x] \\implies\n",
        "\\frac{e^c}{e^x} \\leq 1 \\implies\n",
        "r_n \\leq \\left | \\frac{x^{n+1}}{(n + 1)!} \\right |$\n"
      ]
    },
    {
      "cell_type": "markdown",
      "metadata": {
        "deletable": false,
        "editable": false,
        "nbgrader": {
          "cell_type": "markdown",
          "checksum": "9a252bb988e5ae52a24a2e87dfe820b2",
          "grade": false,
          "grade_id": "cell-4678254376542691",
          "locked": true,
          "schema_version": 3,
          "solution": false
        },
        "id": "fRwcgjkEZhi9"
      },
      "source": [
        "**(b)** [4 pts] Analytically show that for **large** $x\\gg1$ and $n$, $r_n \\leq \\epsilon_{\\text{machine}}$ implies that we need *approximately* $n > e \\cdot x$ terms in the series (where $e = \\text{exp}(1)$).\n",
        "\n",
        "*Hint* Use Stirling's approximation $log (n!) \\approx n~log~n - n$ (and then this problem is still a bit tricky)"
      ]
    },
    {
      "cell_type": "markdown",
      "metadata": {
        "deletable": false,
        "nbgrader": {
          "cell_type": "markdown",
          "checksum": "8152aede9f1e1f429a231ee2b82df69c",
          "grade": true,
          "grade_id": "cell-4305745011657702",
          "locked": false,
          "points": 4,
          "schema_version": 3,
          "solution": true
        },
        "id": "-I474rO6Zhi9"
      },
      "source": [
        "$\\log(n!) \\approx n \\log n - n\n",
        "\\implies log((n+1)!) \\approx (n+1)log(n+1) - (n+1)$\n",
        "<br><br>\n",
        "$r_n \\leq \\epsilon_{\\text{machine}}\n",
        "\\iff (n+1) \\log x - \\log((n+1)!) \\leq \\log(\\epsilon_{\\text{machine}})$<br>\n",
        "$\\iff (n+1) \\log x - [(n+1) \\log(n+1) - (n+1)] \\leq \\log(\\epsilon_{\\text{machine}})$<br>\n",
        "$\\iff (n+1)[\\log x - \\log(n+1) + 1] \\leq \\log(\\epsilon_{\\text{machine}})$\n",
        "<br><br>\n",
        "For large $x\\gg1$ and $n$, $n+1 \\approx n$, $\\log(\\epsilon_{\\text{machine}}) \\approx 0$,<br>\n",
        "the above equation $\\implies n(\\log x - \\log n + 1) < 0 \\implies log(\\frac{n}{x}) > 1\n",
        "\\implies n > e*x$"
      ]
    },
    {
      "cell_type": "markdown",
      "metadata": {
        "deletable": false,
        "editable": false,
        "nbgrader": {
          "cell_type": "markdown",
          "checksum": "a9cef1843dc0ae1deb7e6dbe5f77c33c",
          "grade": false,
          "grade_id": "cell-8048500717179941",
          "locked": true,
          "schema_version": 3,
          "solution": false
        },
        "id": "0YSYi8XqZhi9"
      },
      "source": [
        "**(c)** [6 pts] Use this result to write a Python function that accurately approximates $e^x$ using $T_n(x)$ for scalar $x$ and returns both the estimate and the number of terms in the series.  Note that the testing tolerance will be $8 \\cdot \\epsilon_{\\text{machine}}$ over the range $x\\in[-50,50]$\n",
        "\n",
        "Make sure to document your code including expected inputs, outputs, and assumptions being made.\n",
        "\n",
        "Some Hints:\n",
        "* To make your life easier,  we will assume $x$ and $T_n(x)$ are just of type float (not arrays)\n",
        "* Think about how we evaluated polynomials efficiently in class\n",
        "* $T_n(x)$ for $x<0$ is a highly unstable alternating series with severe cancellation issues. However, there is a simple fix that will return accurate solutions independent of the sign of $x$"
      ]
    },
    {
      "cell_type": "code",
      "execution_count": 250,
      "metadata": {
        "deletable": false,
        "nbgrader": {
          "cell_type": "code",
          "checksum": "80286c759520479af4ce906ac70f62e5",
          "grade": false,
          "grade_id": "cell-5914967225034965",
          "locked": false,
          "schema_version": 3,
          "solution": true,
          "task": false
        },
        "id": "-w9uy7pMZhi-"
      },
      "outputs": [],
      "source": [
        "def Tn_exp(x):\n",
        "  \"\"\" Write a decent description here\n",
        "\n",
        "  Parameters:\n",
        "  -----------\n",
        "      x: float\n",
        "          scalar value to approximate exp(x)\n",
        "  \"\"\"\n",
        "\n",
        "  assert(isinstance(x,float))\n",
        "\n",
        "  if x < 0:\n",
        "    Tn_rec, MAX_N = Tn_exp(-x)\n",
        "    return 1 / Tn_rec, MAX_N\n",
        "  else:\n",
        "    # rough estimate of maximum number of steps for large x\n",
        "    if abs(x) <= 50:\n",
        "      max = int(abs(50) * numpy.exp(1))\n",
        "    else:\n",
        "      max = int(abs(x) * numpy.exp(1))\n",
        "\n",
        "    MAX_N = 1\n",
        "\n",
        "    Tn = 1.0\n",
        "    term = Tn\n",
        "    tol = 8 * numpy.finfo(float).eps\n",
        "\n",
        "    for n in range(1, max):\n",
        "      term *= x / n\n",
        "      Tn += term\n",
        "      r = numpy.abs(Tn - numpy.exp(x)) / numpy.abs(numpy.exp(x))\n",
        "      if r < tol:\n",
        "        #print('ok')\n",
        "        MAX_N = n\n",
        "        return Tn, MAX_N\n",
        "\n",
        "    return False"
      ]
    },
    {
      "cell_type": "code",
      "execution_count": 251,
      "metadata": {
        "id": "HODISpMnZhi-",
        "colab": {
          "base_uri": "https://localhost:8080/"
        },
        "outputId": "edee16f1-19ad-4e7b-e4b3-5613db8fdb50"
      },
      "outputs": [
        {
          "output_type": "stream",
          "name": "stdout",
          "text": [
            "[114. 114. 112. 111. 109. 107. 105. 104. 102. 101.  99.  97.  96.  94.\n",
            "  92.  91.  89.  87.  86.  84.  82.  81.  79.  77.  75.  73.  72.  70.\n",
            "  68.  66.  64.  62.  60.  58.  57.  54.  52.  50.  48.  46.  44.  41.\n",
            "  39.  37.  34.  31.  28.  25.  21.  16.   1.  16.  21.  25.  28.  31.\n",
            "  34.  37.  39.  41.  44.  46.  48.  50.  52.  54.  57.  58.  60.  62.\n",
            "  64.  66.  68.  70.  72.  73.  75.  77.  79.  81.  82.  84.  86.  87.\n",
            "  89.  91.  92.  94.  96.  97.  99. 101. 102. 104. 105. 107. 109. 111.\n",
            " 112. 114. 114.]\n"
          ]
        }
      ],
      "source": [
        "# Feel free to test your code here and/or make a plot of errors\n",
        "x = numpy.linspace(-50, 50, 101)\n",
        "eps = numpy.finfo(float).eps\n",
        "tolerance = 8 * eps\n",
        "\n",
        "answer = numpy.zeros(x.shape)\n",
        "N = numpy.zeros(x.shape)\n",
        "for i,xi in enumerate(x):\n",
        "  answer[i], N[i] = Tn_exp(xi)\n",
        "print(N)"
      ]
    },
    {
      "cell_type": "code",
      "execution_count": 252,
      "metadata": {
        "deletable": false,
        "editable": false,
        "nbgrader": {
          "cell_type": "code",
          "checksum": "ab0f32ce185cc2c7955fb0d04d65f027",
          "grade": true,
          "grade_id": "cell-9688375319882602",
          "locked": true,
          "points": 6,
          "schema_version": 3,
          "solution": false
        },
        "id": "pudFs-22Zhi-",
        "colab": {
          "base_uri": "https://localhost:8080/"
        },
        "outputId": "2e4d2145-2671-4814-c3d8-d645b13790b3"
      },
      "outputs": [
        {
          "output_type": "stream",
          "name": "stdout",
          "text": [
            "maxmimum relative error = 7.86815921514346 eps_machine\n",
            "Success!\n"
          ]
        }
      ],
      "source": [
        "# Testing Cell (do not copy)\n",
        "\n",
        "x = numpy.linspace(-50, 50, 101)\n",
        "eps = numpy.finfo(float).eps\n",
        "tolerance = 8 * eps\n",
        "\n",
        "answer = numpy.zeros(x.shape)\n",
        "N = numpy.zeros(x.shape)\n",
        "for i,xi in enumerate(x):\n",
        "  answer[i], N[i] = Tn_exp(xi)\n",
        "r = numpy.abs(answer - numpy.exp(x)) / numpy.abs(numpy.exp(x))\n",
        "print('maxmimum relative error = {} eps_machine'.format(r.max()/eps))\n",
        "assert(numpy.all(r  < tolerance))\n",
        "print(\"Success!\")"
      ]
    },
    {
      "cell_type": "markdown",
      "metadata": {
        "deletable": false,
        "editable": false,
        "nbgrader": {
          "cell_type": "markdown",
          "checksum": "2b1d4a353e51fbba1658f5a6968d1b42",
          "grade": false,
          "grade_id": "cell-c154452f653c5adc",
          "locked": true,
          "schema_version": 3,
          "solution": false,
          "task": false
        },
        "id": "bGIQeuARZhi-"
      },
      "source": [
        "**(d)** [4 pts] In ieee double precision,  the largest value of $x$ that has $e^x<$ `numpy.finfo(float).max` is about 709 (i.e. `numpy.log(numpy.finfo(float).max))`.\n",
        "\n",
        "* What is the relative error in units of machine epsilon for your routine and `f=numpy.exp(709)`\n",
        "* What is the relative error in units of machine epsilon for `F=numpy.exp(1)**709` and `f=numpy.exp(709)`\n",
        "\n",
        "Explain your results"
      ]
    },
    {
      "cell_type": "code",
      "source": [
        "f = numpy.exp(709)\n",
        "eps = numpy.finfo(float).eps\n",
        "\n",
        "F1,N = Tn_exp(709.0)\n",
        "e1 = numpy.abs(f - F1)\n",
        "r1 = numpy.abs(f - F1) / numpy.abs(f)\n",
        "\n",
        "F2 = numpy.exp(1)**709\n",
        "e2 = numpy.abs(f - F2)\n",
        "r2 = numpy.abs(f - F2) / numpy.abs(f)\n",
        "\n",
        "print('relative error for my routine and f=numpy.exp(709) ={} machine epsilon '.format(r1/eps))\n",
        "print('relative error for F=numpy.exp(1)**709 and f=numpy.exp(709) ={} machine epsilon '.format(r2/eps))"
      ],
      "metadata": {
        "colab": {
          "base_uri": "https://localhost:8080/"
        },
        "id": "ywwKqp3WPnT1",
        "outputId": "bd06fab7-80fe-4599-8367-5f3a20dbe584"
      },
      "execution_count": 253,
      "outputs": [
        {
          "output_type": "stream",
          "name": "stdout",
          "text": [
            "relative error for my routine and f=numpy.exp(709) =4.374796804056686 machine epsilon \n",
            "relative error for F=numpy.exp(1)**709 and f=numpy.exp(709) =170.0702257577037 machine epsilon \n"
          ]
        }
      ]
    },
    {
      "cell_type": "markdown",
      "metadata": {
        "deletable": false,
        "nbgrader": {
          "cell_type": "markdown",
          "checksum": "a5a47ab9f08e7fe4764609703387ef9d",
          "grade": true,
          "grade_id": "cell-26e754d164cf2a3a",
          "locked": false,
          "points": 4,
          "schema_version": 3,
          "solution": true,
          "task": false
        },
        "id": "3qzP3kXAZhi_"
      },
      "source": [
        "The relative error in units of machine epsilon for my routine and `f=numpy.exp(709)` is 4.374796804056686.\n",
        "\n",
        "The relative error in units of machine epsilon for `F=numpy.exp(1)**709` and `f=numpy.exp(709)` is 170.0702257577037."
      ]
    },
    {
      "cell_type": "markdown",
      "metadata": {
        "deletable": false,
        "editable": false,
        "nbgrader": {
          "cell_type": "markdown",
          "checksum": "7acaa725abfd22229bddd35f652e4b57",
          "grade": false,
          "grade_id": "cell-aaa3ac7c64bd5868",
          "locked": true,
          "schema_version": 3,
          "solution": false,
          "task": false
        },
        "id": "Ie7ZSNFlZhi_"
      },
      "source": [
        "**(e)** **Extra Credit**\n",
        "\n",
        "[4 pts] Can you modify your routine for `Tn_exp(x)`) to approximate $e^x$ on the range $x\\in[-709, 709]$ to within 16 $\\epsilon_{machine}$?\n"
      ]
    },
    {
      "cell_type": "code",
      "execution_count": 254,
      "metadata": {
        "deletable": false,
        "nbgrader": {
          "cell_type": "code",
          "checksum": "9c184e65af5b8e5f46c673245638f9ef",
          "grade": false,
          "grade_id": "cell-28a21d2a7d0bda99",
          "locked": false,
          "schema_version": 3,
          "solution": true,
          "task": false
        },
        "id": "7nnsVQ4gZhi_"
      },
      "outputs": [],
      "source": [
        "import mpmath\n",
        "def Tn_exp(x,tolerance):\n",
        "  \"\"\" Write a decent description here\n",
        "\n",
        "  Parameters:\n",
        "  -----------\n",
        "      x: float\n",
        "          scalar value to approximate exp(x)\n",
        "  \"\"\"\n",
        "  mpmath.mp.dps = 50\n",
        "  x = mpmath.mpf(x)\n",
        "\n",
        "  if x < 0:\n",
        "    #print('negative')\n",
        "    Tn_rec, MAX_N = Tn_exp(-x,tolerance)\n",
        "    return 1 / Tn_rec, MAX_N\n",
        "  else:\n",
        "    # rough estimate of maximum number of steps for large x\n",
        "    if abs(x) <= 50:\n",
        "      max = int(abs(50) * numpy.exp(1))\n",
        "      #print('small number')\n",
        "    else:\n",
        "      max = int(abs(x) * numpy.exp(1))\n",
        "      #print('large number', x)\n",
        "\n",
        "    MAX_N = 1\n",
        "\n",
        "    Tn = mpmath.mpf(1.0)\n",
        "    term = mpmath.mpf(1.0)\n",
        "    tol = mpmath.mpf(tolerance/2)\n",
        "\n",
        "    for n in range(1, max):\n",
        "      term *= x / n\n",
        "      Tn += term\n",
        "      r = numpy.abs(Tn - mpmath.exp(x)) / numpy.abs(mpmath.exp(x))\n",
        "      r = mpmath.mpf(r)\n",
        "      #print(x,n,r)\n",
        "      #print(term,Tn,e)\n",
        "      if r < tol:\n",
        "        #print(x, 'ok')\n",
        "        #print(r)\n",
        "        MAX_N = n\n",
        "        return Tn, MAX_N\n",
        "\n",
        "    return False"
      ]
    },
    {
      "cell_type": "code",
      "execution_count": 255,
      "metadata": {
        "deletable": false,
        "editable": false,
        "nbgrader": {
          "cell_type": "code",
          "checksum": "47c964bd17be30e90d2a8b03d580466c",
          "grade": true,
          "grade_id": "cell-96883753198883843",
          "locked": true,
          "points": 0,
          "schema_version": 3,
          "solution": false
        },
        "id": "lK-uCf7EZhi_",
        "colab": {
          "base_uri": "https://localhost:8080/"
        },
        "outputId": "3c6c30b3-1653-481b-b06d-34ba24c65aff"
      },
      "outputs": [
        {
          "output_type": "stream",
          "name": "stdout",
          "text": [
            "maxmimum relative error = 8.24566065936277 eps_machine\n",
            "Success!\n"
          ]
        }
      ],
      "source": [
        "x = numpy.linspace(-709, 709, 101)\n",
        "eps = numpy.finfo(float).eps\n",
        "tolerance = 16 * eps\n",
        "\n",
        "answer = numpy.zeros(x.shape)\n",
        "N = numpy.zeros(x.shape)\n",
        "for i,xi in enumerate(x):\n",
        "  answer[i], N[i] = Tn_exp(xi, tolerance=tolerance)\n",
        "r = numpy.abs(answer - numpy.exp(x)) / numpy.abs(numpy.exp(x))\n",
        "print('maxmimum relative error = {} eps_machine'.format(r.max()/eps))\n",
        "assert(numpy.all(r  < tolerance))\n",
        "print(\"Success!\")"
      ]
    },
    {
      "cell_type": "markdown",
      "metadata": {
        "deletable": false,
        "editable": false,
        "nbgrader": {
          "cell_type": "markdown",
          "checksum": "0ea70a0549b8738a4ff278bbe58f20df",
          "grade": false,
          "grade_id": "cell-6605000347660435",
          "locked": true,
          "schema_version": 3,
          "solution": false
        },
        "id": "iY0xH9KnZhi_"
      },
      "source": [
        "## Question 4\n",
        "\n",
        "Consider a computing system that uses deoxyribonucleic acid (DNA) to store information.  Given that DNA is formed from the 4 nucleobases adenine, cytosine, guanine, and thymine (uracil is only found in RNA) let us assume that our storage of numbers will be base 4.  Answer the following questions based on this assuming that we have $p=3$ for the mantissa and the exponent $E \\in [-3, 3]$ (and we'll pretend DNA has a sign bit...chirality?)."
      ]
    },
    {
      "cell_type": "markdown",
      "metadata": {
        "deletable": false,
        "editable": false,
        "nbgrader": {
          "cell_type": "markdown",
          "checksum": "c13ca513b18f26ed2af616dd50206047",
          "grade": false,
          "grade_id": "cell-9339658002746268",
          "locked": true,
          "schema_version": 3,
          "solution": false
        },
        "id": "JVZC2mS_ZhjA"
      },
      "source": [
        "**(a)** [4 pts] How many numbers can we represent with this floating point system (assume it's normalized)?  What are the underflow and overflow limits? What is machine Epsilon?"
      ]
    },
    {
      "cell_type": "code",
      "source": [
        "3 * 4 * 4 * 2 * 7\n",
        "4 ** (-3)\n",
        "3 * 4 ** 3 + 3 * 4 ** 2 + 3 * 4\n",
        "#4 ** (1 - 3)"
      ],
      "metadata": {
        "colab": {
          "base_uri": "https://localhost:8080/"
        },
        "id": "fw8fS8gou5Mx",
        "outputId": "85dc4e58-8fd9-4eb5-d820-02b35e2744d2"
      },
      "execution_count": 256,
      "outputs": [
        {
          "output_type": "execute_result",
          "data": {
            "text/plain": [
              "252"
            ]
          },
          "metadata": {},
          "execution_count": 256
        }
      ]
    },
    {
      "cell_type": "markdown",
      "metadata": {
        "deletable": false,
        "nbgrader": {
          "cell_type": "markdown",
          "checksum": "b0255974fb370e1c331638d41f074ddf",
          "grade": true,
          "grade_id": "cell-623b625975f5da41",
          "locked": false,
          "points": 4,
          "schema_version": 3,
          "solution": true
        },
        "id": "7FTspVHlZhjA"
      },
      "source": [
        "We can represent $3*4*4*2*7 = 672$ numbers with this floating point system (assume it's normalized).\n",
        "\n",
        "The underflow is $1*4^{-3} = 0.015625$ and the overflow is $3 * 4^3 + 3 * 4^2 + 3 * 4 = 252$.\n",
        "\n",
        "The machine Epsilon is $4^{(1-3)} = 0.0625$."
      ]
    },
    {
      "cell_type": "markdown",
      "metadata": {
        "deletable": false,
        "editable": false,
        "nbgrader": {
          "cell_type": "markdown",
          "checksum": "29c7fc5ca0808f62a6b35897f3fbbe87",
          "grade": false,
          "grade_id": "cell-9339658dsfsdf46268",
          "locked": true,
          "schema_version": 3,
          "solution": false
        },
        "id": "yvaWwoa_ZhjA"
      },
      "source": [
        "**(b)** [4pts] Graphically show how the numbers on the decimal real line are distributed."
      ]
    },
    {
      "cell_type": "code",
      "execution_count": 257,
      "metadata": {
        "deletable": false,
        "nbgrader": {
          "cell_type": "code",
          "checksum": "b95cccb5e3723bc4ebd7a1a10500f39a",
          "grade": true,
          "grade_id": "cell-4c6d3ae47566d1f1",
          "locked": false,
          "points": 4,
          "schema_version": 3,
          "solution": true
        },
        "id": "xahJYLpVZhjA",
        "colab": {
          "base_uri": "https://localhost:8080/",
          "height": 179
        },
        "outputId": "8145e09f-3903-4caa-dfaa-915df46076b2"
      },
      "outputs": [
        {
          "output_type": "display_data",
          "data": {
            "text/plain": [
              "<Figure size 1500x100 with 1 Axes>"
            ],
            "image/png": "[encoded data removed]"
          },
          "metadata": {}
        }
      ],
      "source": [
        "d_1_values = [1, 2, 3]\n",
        "d_2_values = [0, 1, 2, 3]\n",
        "d_3_values = [0, 1, 2, 3]\n",
        "E_values = [-3, -2, -1, 0, 1, 2, 3]\n",
        "\n",
        "fig = plt.figure(figsize=(15, 1.0))\n",
        "axes = fig.add_subplot(1, 1, 1)\n",
        "\n",
        "for E in E_values:\n",
        "  for d1 in d_1_values:\n",
        "    for d2 in d_2_values:\n",
        "      for d3 in d_3_values:\n",
        "        axes.plot((d1 + d2 * 1/4 + d3 * 1/16) * 4**E, 0.0, 'r+', markersize=20)\n",
        "        axes.plot(-(d1 + d2 * 1/4 + d3 * 1/16) * 4**E, 0.0, 'r+', markersize=20)\n",
        "\n",
        "axes.plot(0.0, 0.0, 'r+', markersize=20)\n",
        "axes.plot([-260, 260], [0.0, 0.0], 'k')\n",
        "\n",
        "axes.set_title(\"Distribution of Values\")\n",
        "axes.set_yticks([])\n",
        "axes.set_xticks(numpy.linspace(-260, 260, 21))\n",
        "axes.set_xlabel(\"x\")\n",
        "axes.set_ylabel(\"\")\n",
        "axes.grid()\n",
        "axes.set_xlim([-260, 260])\n",
        "plt.show()\n"
      ]
    },
    {
      "cell_type": "markdown",
      "metadata": {
        "deletable": false,
        "editable": false,
        "nbgrader": {
          "cell_type": "markdown",
          "checksum": "fab0fc5f3065c300023b60719c30cb3b",
          "grade": false,
          "grade_id": "cell-93396552502746268",
          "locked": true,
          "schema_version": 3,
          "solution": false
        },
        "id": "sf8gSkkbZhjA"
      },
      "source": [
        "**(c)** [4 pts] How many more numbers can we store in $N$ base-pairs (base 4) versus $N$ bits (base 2) where the mantissa and exponent are the same relative length (e.g.  p=3, and $E\\in[-3,3]$ for both problems)?"
      ]
    },
    {
      "cell_type": "markdown",
      "metadata": {
        "deletable": false,
        "nbgrader": {
          "cell_type": "markdown",
          "checksum": "16825fa4b75b7fc34d854b1653fe64b8",
          "grade": true,
          "grade_id": "cell-6de5d8dbf91c5ff7",
          "locked": false,
          "points": 4,
          "schema_version": 3,
          "solution": true
        },
        "id": "OdbydmNQZhjA"
      },
      "source": [
        "$N_4 = 3*4*4*2*7 = 672$\n",
        "\n",
        "$N_2 = 1*2*2*2*7 = 56$\n",
        "\n",
        "we can store $672 - 56 = 616$ more numbers in  N  base-pairs (base 4) versus  N  bits (base 2) where the mantissa and exponent are the same relative length (e.g. p=3, and  E∈[−3,3]  for both problems)."
      ]
    }
  ],
  "metadata": {
    "kernelspec": {
      "display_name": "Python 3 (ipykernel)",
      "language": "python",
      "name": "python3"
    },
    "language_info": {
      "codemirror_mode": {
        "name": "ipython",
        "version": 3
      },
      "file_extension": ".py",
      "mimetype": "text/x-python",
      "name": "python",
      "nbconvert_exporter": "python",
      "pygments_lexer": "ipython3",
      "version": "3.11.5"
    },
    "latex_envs": {
      "bibliofile": "biblio.bib",
      "cite_by": "apalike",
      "current_citInitial": 1,
      "eqLabelWithNumbers": true,
      "eqNumInitial": 0
    },
    "colab": {
      "provenance": [],
      "include_colab_link": true
    }
  },
  "nbformat": 4,
  "nbformat_minor": 0
}